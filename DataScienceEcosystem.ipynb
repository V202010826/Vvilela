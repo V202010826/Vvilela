{
 "cells": [
  {
   "cell_type": "markdown",
   "id": "29650c0a-587b-47d4-ae9c-b351ced16cbd",
   "metadata": {},
   "source": [
    "# Data Science Tools and Ecosystem"
   ]
  },
  {
   "cell_type": "markdown",
   "id": "96825019-20d5-4ae2-9426-f129ea691133",
   "metadata": {},
   "source": [
    "<body>In this notebook, Data Science Tools and Ecosystems are summarized </body>"
   ]
  },
  {
   "cell_type": "markdown",
   "id": "97463948-98c1-4436-af9d-d00894123d75",
   "metadata": {},
   "source": [
    "<body> Some of the popular languages that Data Scientist use are: </body>"
   ]
  },
  {
   "cell_type": "markdown",
   "id": "2ffa8fa8-954f-4b33-849f-2bc2d4b17ded",
   "metadata": {
    "tags": []
   },
   "source": [
    "1. SQL\n",
    "2. R\n",
    "3. PYTHON"
   ]
  },
  {
   "cell_type": "markdown",
   "id": "def01a76-97b1-4efb-ad8f-6d9f079dd37d",
   "metadata": {},
   "source": [
    "<body>Some of the commonly used libraries used by Data Scientist include: </body>"
   ]
  },
  {
   "cell_type": "markdown",
   "id": "421db69b-b507-453c-89c4-ee596c717484",
   "metadata": {
    "tags": []
   },
   "source": [
    "1. PANDAS\n",
    "2. TensorFlow\n",
    "3. KERAS"
   ]
  },
  {
   "cell_type": "markdown",
   "id": "765973eb-5071-4377-88dc-99b12abcfe54",
   "metadata": {
    "tags": []
   },
   "source": [
    "| Data Science Tools |\n",
    "| -------------|\n",
    "| Github |\n",
    "| Eclipse |\n",
    "| BootStrap |"
   ]
  },
  {
   "cell_type": "markdown",
   "id": "c3fc84f3-5331-43a7-b799-ae81fc834ef5",
   "metadata": {
    "tags": []
   },
   "source": [
    "### Below are a few examples of evaluating arithmetic expressions in python: "
   ]
  },
  {
   "cell_type": "markdown",
   "id": "ba571a98-f7e2-4077-a65a-be00db4d2468",
   "metadata": {},
   "source": [
    "This is a simple arithmetic expression to multiply then add integers"
   ]
  },
  {
   "cell_type": "code",
   "execution_count": 4,
   "id": "47b8c724-8950-4c35-90e3-45aa4b9d26c9",
   "metadata": {
    "tags": []
   },
   "outputs": [
    {
     "data": {
      "text/plain": [
       "17"
      ]
     },
     "execution_count": 4,
     "metadata": {},
     "output_type": "execute_result"
    }
   ],
   "source": [
    "(3*4)+5"
   ]
  },
  {
   "cell_type": "markdown",
   "id": "c63bcaf1-5392-40fb-9258-23095fa7a422",
   "metadata": {},
   "source": [
    "This will convert 200 minutes to hours by dividing by 60:"
   ]
  },
  {
   "cell_type": "code",
   "execution_count": 5,
   "id": "fe58db08-d513-45f4-a6c5-927d1f4ec735",
   "metadata": {
    "tags": []
   },
   "outputs": [
    {
     "data": {
      "text/plain": [
       "3.3333333333333335"
      ]
     },
     "execution_count": 5,
     "metadata": {},
     "output_type": "execute_result"
    }
   ],
   "source": [
    "(200/60)"
   ]
  },
  {
   "cell_type": "markdown",
   "id": "7033943c-6015-4f55-86b3-b0052d133b4f",
   "metadata": {
    "tags": []
   },
   "source": [
    "**Objective:**\n"
   ]
  },
  {
   "cell_type": "markdown",
   "id": "1ec46535-d4c5-402b-9fbf-b650db424d70",
   "metadata": {},
   "source": [
    "- I learn how to create a table\n",
    "- I learn how to ordered a list\n",
    "- I learn the most popular languages in Data Science\n",
    "- I learn the most common libraries used in Data Science"
   ]
  },
  {
   "cell_type": "markdown",
   "id": "fe80b033-d98e-4876-9c72-399179c13e86",
   "metadata": {},
   "source": [
    "## Valeria Ariana Vilela Leon - U202010826"
   ]
  },
  {
   "cell_type": "code",
   "execution_count": null,
   "id": "e7b08452-f329-4397-aad8-3aec288267af",
   "metadata": {},
   "outputs": [],
   "source": []
  }
 ],
 "metadata": {
  "kernelspec": {
   "display_name": "Python",
   "language": "python",
   "name": "conda-env-python-py"
  },
  "language_info": {
   "codemirror_mode": {
    "name": "ipython",
    "version": 3
   },
   "file_extension": ".py",
   "mimetype": "text/x-python",
   "name": "python",
   "nbconvert_exporter": "python",
   "pygments_lexer": "ipython3",
   "version": "3.7.12"
  }
 },
 "nbformat": 4,
 "nbformat_minor": 5
}
